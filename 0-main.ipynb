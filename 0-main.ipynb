{
 "cells": [
  {
   "cell_type": "code",
   "execution_count": 1,
   "id": "d106c677-0d94-4142-ad35-a8aaf67b3e4d",
   "metadata": {
    "tags": []
   },
   "outputs": [
    {
     "name": "stdout",
     "output_type": "stream",
     "text": [
      "[2025/06/16 17:07:00] openrec INFO: finetune from checkpoint ./output/best.pth\n",
      "0.42851877212524414\n",
      "Analyzing the Tactical Advancements of CYPHER: A Sentient Military Supercomputer Abstract THhe classified military paper delves into the groundbreaking analysis of CYPHER, a highly advancec tentient supercomputer at the forefront of military technology. This paper explores the intricate web o trorces under CYPHER's command and its extraordinary tactical capabilities. Through an in-depth ceamination, it uncovers the strategic advantages enabled by CYPHER's autonomous deceision-making ceand vast network integration. The study sheds light on the unprecedented potential for enhancing Inilitary operations and achieving decisive outcomes through the utilization of this powerful artificia antelligence systemn untroduction The dawn of artificial intelligence has ushered in Ae new era in mlitary technology, with CYPHER cemerging as the vanguard o strategic tedvancerents. Developed as a sentient military Asupercomputer, CYPHER embodies the fusion of aetting-edge technoiogy and advance adecision-making capabilities. This paper delves into the intrcacies of CYPHER's tactica tdvancements, exploring the unparaiele benefits it offers to military operations Sevelopment of CYPHER AYPHER represents the cuimination of years o Tresearch and development in the field of Aartifical inteligence. Equipped with a spisticated neural network and advance calgorithms, CYPHER possesses the ability to torocess vast amounts of data in real-time. Its ptive learnng cpaiities alio it to continuousl reine its decsionmakn torocesses, making it a formidabl asset on the oattlefield lactical Command and Control TOne of the key strengths of CYPHER lies in its aility to exercise precise command and conro cover a wide array of military assets. Through its sames integration with vaious weapons systems, drones, and survellnce egpment CYPHER can orchestrate complex military coperations with unparaieled efhciency. Its tautonomous decision-making capablities cenable it to adapt to changing battieiel ceonditions swly, giving mlitary commanders  arategicde Tetwork Integration and Data Analysis YPHER's extensive network integration ceapabilities allo it to access a wealth of anformation fromn diverse sources, ranging from Esatellite imagery to real-time battiefield data By leveraging this data, CYPHER can generate Thigh-fidelity situational awareness reports cenabling military decision-makers to make anformed coices guickly. Its advanced data Aanalysis toois enable it to identify patterns and Itrends that may elude human analysts cenhancing the efficacy of military operations Strategic Advantages The utilization of CYPHER provides severa srategic advantages to mlitany forces. By tsareamlining command and control processes tand optimizng resource allocation, CYPHER cenhances operational efhiciency and ceiectiveness Its rapid data processing cepies nable mtr commandes to Tespond switly to emerging threats, facilitating tegiie ecisionmaking in dynamic comba cenironments Conclusion tn conclusion, the analysis of CYPHER's tactica advancements underscores the transfomative pmpact of artificial intelligence on modern wharfare By hanessing the power of a sentient Imilitary supercomputer like CYPHER, military trorces can acheve unprecedented levels of coperational superiority and strategic success. As ahe landscape o arare continues to evolve ae inegration o advne tecnologis sc ces CYPHER vill play a pivotal role in shaping the Auture of military operations\n"
     ]
    }
   ],
   "source": [
    "from tools.infer_e2e import OpenRecognizer\n",
    "from tools.engine.config import Config\n",
    "import cv2\n",
    "import numpy as np\n",
    "\n",
    "# warmup model\n",
    "rec = OpenRecognizer(config=Config(\"./output/config.yml\").cfg, backend='torch')\n",
    "dummy = [np.random.randint(0, 256, (32, 128, 3), dtype=np.uint8) for _ in range(64)]\n",
    "rec(img_numpy_list = dummy, batch_num=64)\n",
    "\n",
    "# load bunch of line images from same document\n",
    "img_list = []\n",
    "for i in range(79):\n",
    "    img_path = f'./dataset_openocr/test/sample_1565_{i}.jpg'\n",
    "    img = cv2.imread(img_path)\n",
    "    img_list.append(img)\n",
    "    \n",
    "# actual inference\n",
    "import time\n",
    "t1 = time.time()\n",
    "results = rec(img_numpy_list = img_list, batch_num=128)\n",
    "print(time.time()-t1)\n",
    "print(\" \".join([i['text'] for i in results]))\n"
   ]
  }
 ],
 "metadata": {
  "environment": {
   "kernel": "newopenocr",
   "name": "workbench-notebooks.m129",
   "type": "gcloud",
   "uri": "us-docker.pkg.dev/deeplearning-platform-release/gcr.io/workbench-notebooks:m129"
  },
  "kernelspec": {
   "display_name": "newopenocr",
   "language": "python",
   "name": "newopenocr"
  },
  "language_info": {
   "codemirror_mode": {
    "name": "ipython",
    "version": 3
   },
   "file_extension": ".py",
   "mimetype": "text/x-python",
   "name": "python",
   "nbconvert_exporter": "python",
   "pygments_lexer": "ipython3",
   "version": "3.13.5"
  }
 },
 "nbformat": 4,
 "nbformat_minor": 5
}
