{
 "cells": [
  {
   "cell_type": "code",
   "execution_count": 1,
   "id": "d106c677-0d94-4142-ad35-a8aaf67b3e4d",
   "metadata": {
    "tags": []
   },
   "outputs": [
    {
     "name": "stdout",
     "output_type": "stream",
     "text": [
      "[2025/06/16 16:12:47] openrec INFO: finetune from checkpoint ./output/best.pth\n",
      "0.4364962577819824\n",
      "Analyzing the Tactical Advancements of CYPHER: ASentient Military SupercomputerAbstractThe classfied military paper delves into the groundbreaking analysis of CYPHER, a highly advancetentient supercomputer at the forefront of military technology. This paper explores the intricate web otrorces under CYPHER's command and its extraordinary tactical capabilities. Through an in-depthIeramination, it uncovers the strategic advantages enabled by CYPHER's autonomous deceision-makinIend vast network integration. The study sheds light on the unprecedented potential for enhancinIenilitary operations and achieving decisive outcomes through the utilization of this powerful artificiaontelligence systemnuntroductionThe dawn of artficial intelligence has ushered inAe ne era in militry technology, with CYHEIemerging as the vanguard o strateiccedvancenents. Developed as a sentient militaryAsupercomputer, CYPHER embodies the fusion ofaeting-edge technoigy an advanceadecision-making capabilities. This paper delvesInto the intrcacies of CYPHER's tacticacedvancemnts, expioring the unparaielerbenefits it offers to military operationsDevelopment of CYPHERPHER represents the cumination of years oTresearch and development in the field ofcartificial inteligence. Equipped with aAspisticated neura netork nd dvancecalgorithms, CYPHER possesses the ability totorocess vast amounts of data in real-time. Itcedptive learnng cpbiities io it toceninu eneit denmantorocesses, makin it  foidab asset on theoattlefieldlactical Command and ControlTOne of the key strengths of CYPHER lies in itscaility to exercise precise command and conrocover a wide array of military assets. Through itsAanss integraion ith vaious apossters, rones, and surellnce egpmenCYPHER can orchestrate complex militaryceperations with unparaeled ehiciency Ittatonomous decision-making capabitiesIerabie it to adapt to changing batieielcenditions sw givng mitry coaners Araegic deTetwork Integration and Data AnalysisYPHER's extensive network integrationceapabilities alio it to access a vealth ofanormation romn diverse sources, ranging romEsatellite imagery to real-time battiefield dataBy leveraging this data, CYPHER can generateThigh-fidelity situational awareness reportsIerabling miitary decision-akers to mkpormed choices guickly Its advanced datacanalysis toois enable it to identify patterns andItrends that may elude human analystsIenhancing the efficacy of military operationsSrategic AdvantagesThe utilization of CYPHER provides severaAstrategic advantages to military forces. ByAsreamining commnd an cntro processscend optimizng resource allocation, CYPHERcerhances operational ehiciency anceafectiveness. Its rapid data processingcepbiities nabe mitry anders toTrespond sitl to emerging theats, faclitatincee ecisioming in dnrmic omacenronmentsConclusionSn conciusion, the analysis of CYPHER's tacticaadvancements underscores the transfomativepempact of artiicial intelligence on moderrwiarfare By hanessing the power of a sentientImilitary supercomputer like CYPHER, militarytiorces can acheve unprecedented levels ofcoperational superiority and strategic success. Asate landscape o arfare continus to evolveIeeinegratin o ane tecno scces CYPHER vill play a pivotal role in shaping theAuture of military operations\n"
     ]
    }
   ],
   "source": [
    "from tools.infer_e2e import OpenRecognizer\n",
    "from tools.engine.config import Config\n",
    "import cv2\n",
    "import numpy as np\n",
    "\n",
    "# warmup model\n",
    "rec = OpenRecognizer(config=Config(\"./output/config.yml\").cfg, backend='torch')\n",
    "dummy = [np.random.randint(0, 256, (32, 128, 3), dtype=np.uint8) for _ in range(64)]\n",
    "rec(img_numpy_list = dummy, batch_num=64)\n",
    "\n",
    "# load bunch of line images from same document\n",
    "img_list = []\n",
    "for i in range(79):\n",
    "    img_path = f'./dataset_openocr/test/sample_1565_{i}.jpg'\n",
    "    img = cv2.imread(img_path)\n",
    "    img_list.append(img)\n",
    "    \n",
    "# actual inference\n",
    "import time\n",
    "t1 = time.time()\n",
    "results = rec(img_numpy_list = img_list, batch_num=128)\n",
    "print(time.time()-t1)\n",
    "print(\"\".join([i['text'] for i in results]))\n"
   ]
  }
 ],
 "metadata": {
  "environment": {
   "kernel": "newopenocr",
   "name": "workbench-notebooks.m129",
   "type": "gcloud",
   "uri": "us-docker.pkg.dev/deeplearning-platform-release/gcr.io/workbench-notebooks:m129"
  },
  "kernelspec": {
   "display_name": "newopenocr",
   "language": "python",
   "name": "newopenocr"
  },
  "language_info": {
   "codemirror_mode": {
    "name": "ipython",
    "version": 3
   },
   "file_extension": ".py",
   "mimetype": "text/x-python",
   "name": "python",
   "nbconvert_exporter": "python",
   "pygments_lexer": "ipython3",
   "version": "3.13.5"
  }
 },
 "nbformat": 4,
 "nbformat_minor": 5
}
